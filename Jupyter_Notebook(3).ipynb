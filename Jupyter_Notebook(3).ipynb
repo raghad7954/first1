{
 "cells": [
  {
   "cell_type": "markdown",
   "metadata": {},
   "source": [
    "<center>\n",
    "    <img src=\"https://cf-courses-data.s3.us.cloud-object-storage.appdomain.cloud/IBMDeveloperSkillsNetwork-DS0105EN-SkillsNetwork/labs/Module2/images/SN_web_lightmode.png\" width=\"300\" alt=\"cognitiveclass.ai logo\">\n",
    "</center>\n"
   ]
  },
  {
   "cell_type": "markdown",
   "metadata": {},
   "source": [
    "#### Add your code below following the instructions given in the course\n"
   ]
  },
  {
   "cell_type": "code",
   "execution_count": 2,
   "metadata": {
    "tags": []
   },
   "outputs": [
    {
     "name": "stdout",
     "output_type": "stream",
     "text": [
      "The price after a 15% discount is: $85.00\n"
     ]
    }
   ],
   "source": [
    "#define function price\n",
    "def apply_discount(price, discount_percentage):\n",
    "    \"\"\"\n",
    ".\n",
    "    \n",
    "    Args:\n",
    "    price (float): .\n",
    "    discount_percentage (float):.\n",
    "    \n",
    "    Returns:\n",
    "    float:   .\n",
    "    \"\"\"\n",
    "    discount_amount = price * (discount_percentage / 100)\n",
    "    discounted_price = price - discount_amount\n",
    "    return discounted_price\n",
    "\n",
    "\n",
    "original_price = 100.0  \n",
    "discount = 15 \n",
    "\n",
    "new_price = apply_discount(original_price, discount)\n",
    "print(f\"The price after a {discount}% discount is: ${new_price:.2f}\")\n"
   ]
  },
  {
   "cell_type": "markdown",
   "metadata": {},
   "source": [
    "# Function to calculate the final price after discount\n",
    "def calculate_discounted_price(original_price, discount_percentage):\n",
    "    \"\"\"\n",
    "    Calculate the final price after applying a discount percentage.\n",
    "\n",
    "    :param original_price: The original price of the product.\n",
    "    :param discount_percentage: The percentage of discount applied.\n",
    "    :return: The final price after discount.\n",
    "    \"\"\"\n",
    "    discount_amount = (discount_percentage / 100) * original_price\n",
    "    final_price = original_price - discount_amount\n",
    "    return final_price\n",
    "\n",
    "# Define the original price and discount percentage\n",
    "original_price = 100  # Example original price of the product\n",
    "discount_percentage = 20  # Example discount percentage\n",
    "\n",
    "# Calculate the final price after discount\n",
    "final_price = calculate_discounted_price(original_price, discount_percentage)\n",
    "\n",
    "# Print the results\n",
    "print(f\"Original Price: ${original_price}\")\n",
    "print(f\"Discount Percentage: {discount_percentage}%\")\n",
    "print(f\"Final Price after Discount: ${final_price}\")\n"
   ]
  },
  {
   "cell_type": "markdown",
   "metadata": {
    "tags": []
   },
   "source": [
    "#4\n",
    "#python \n",
    "  ## def apply_discount(original_price, discount_percentage):\n",
    "      # discount_amount = (discount_percentage / 100) * original_price\n",
    "     #  final_price = original_price - discount_amount\n",
    "    #   return final_price\n",
    "\n",
    "   #original_price = 100\n",
    "   #discount_percentage = 20\n",
    "   #final_price = calculate_discounted_price(original_price, discount_percentage)\n",
    "   #print(f\"Final Price after Discount: ${final_price}\")#\n",
    "\n",
    "#R\n",
    "    #calculate_discounted_price <- function(original_price, discount_percentage) {\n",
    "   # discount_amount <- (discount_percentage / 100) * original_price\n",
    "   # final_price <- original_price - discount_amount\n",
    "   # return(final_price)\n",
    "#}\n",
    "\n",
    "#original_price <- 100\n",
    "#discount_percentage <- 20\n",
    "#final_price <- calculate_discounted_price(original_price, discount_percentage)\n",
    "#print(paste(\"Final Price after Discount:\", final_price))\n",
    "\n",
    "\n",
    "#SQL\n",
    "#SELECT original_price,\n",
    "      # discount_percentage,\n",
    "      # (original_price - (original_price * (discount_percentage / 100))) AS final_price\n",
    "#FROM products;\n",
    "\n",
    "\n"
   ]
  },
  {
   "cell_type": "markdown",
   "metadata": {},
   "source": [
    "\n",
    "     import numpy as np\n",
    "\n",
    "     original_price = 100\n",
    "     discount_percentage = 20\n",
    "\n",
    "     discount_amount = np.multiply(discount_percentage / 100, original_price)\n",
    "     final_price = np.subtract(original_price, discount_amount)\n",
    "\n",
    "     print(f\"Final Price after Discount: ${final_price}\")\n",
    "\n",
    "\n",
    "   \n",
    "     import pandas as pd\n",
    "\n",
    "     data = {'Original Price': [100], 'Discount Percentage': [20]}\n",
    "     df = pd.DataFrame(data)\n",
    "\n",
    "     df['Discount Amount'] = (df['Discount Percentage'] / 100) * df['Original Price']\n",
    "     df['Final Price'] = df['Original Price'] - df['Discount Amount']\n",
    "\n",
    "     print(df[['Original Price', 'Discount Percentage', 'Final Price']])\n",
    "     \n",
    "     from scipy import stats\n",
    "\n",
    "     original_price = 100\n",
    "     discount_percentage = 20\n",
    "\n",
    "     discount_amount = stats.norm.ppf(discount_percentage / 100, loc=original_price, scale=5)\n",
    "     final_price = original_price - discount_amount\n",
    "\n",
    "     print(f\"Final Price after Discount: ${final_price}\")\n",
    "     \n",
    "     library(ggplot2)\n",
    "\n",
    "     original_price <- 100\n",
    "     discount_percentage <- 20\n",
    "     discount_amount <- (discount_percentage / 100) * original_price\n",
    "     final_price <- original_price - discount_amount\n",
    "\n",
    "     print(paste(\"Final Price after Discount:\", final_price))\n",
    "     "
   ]
  },
  {
   "cell_type": "markdown",
   "metadata": {},
   "source": [
    "## Data Science Tools Used for Discount Calculation\n",
    "\n",
    "Below is a table showing some common data science tools and how they can be used to calculate discounts:\n",
    "\n",
    "| **Tool**      | **Language** | **Description**                                                                                   | **Usage Example** |\n",
    "|---------------|--------------|---------------------------------------------------------------------------------------------------|--------------------|\n",
    "| **NumPy**     | Python       | A library that provides support for arrays and basic mathematical operations. Useful for numerical calculations. | ```python <br> import numpy as np <br> original_price = 100 <br> discount_percentage = 20 <br> discount_amount = np.multiply(discount_percentage / 100, original_price) <br> final_price = np.subtract(original_price, discount_amount) <br> print(f\"Final Price: ${final_price}\")``` |\n",
    "| **Pandas**  \n"
   ]
  },
  {
   "cell_type": "markdown",
   "metadata": {},
   "source": [
    "final_price = original_price - discount_amount\n",
    "## Examples of Arithmetic Expressions for Discount Calculation\n",
    "\n",
    "In this cell, we will present various arithmetic expressions used to calculate discounts. These expressions can help you understand how to compute the final price after applying a discount.\n",
    "\n",
    "### 1. **Basic Discount Calculation**\n",
    "\n",
    "To calculate the amount of discount and the final price after the discount, use the following expressions:\n",
    "\n",
    "- **Discount Amount**:\n",
    "  ```plaintext\n",
    "  discount_amount = (discount_percentage / 100) * original_price\n"
   ]
  },
  {
   "cell_type": "markdown",
   "metadata": {},
   "source": [
    "final_price = original_price - discount_amount\n"
   ]
  },
  {
   "cell_type": "markdown",
   "metadata": {
    "tags": []
   },
   "source": [
    "discount_amount = (20 / 100) * 100\n",
    "discount_amount = 20\n"
   ]
  },
  {
   "cell_type": "markdown",
   "metadata": {},
   "source": [
    "final_price = 100 - 20\n",
    "final_price = 80\n"
   ]
  },
  {
   "cell_type": "markdown",
   "metadata": {},
   "source": [
    "final_price = original_price * (1 - discount_percentage / 100)\n"
   ]
  },
  {
   "cell_type": "code",
   "execution_count": 8,
   "metadata": {
    "tags": []
   },
   "outputs": [
    {
     "name": "stdout",
     "output_type": "stream",
     "text": [
      "Original Numbers: [2, 4, 6, 8, 10]\n",
      "Doubled Numbers: [4, 8, 12, 16, 20]\n",
      "Sum of Doubled Numbers: 60\n"
     ]
    }
   ],
   "source": [
    "# Define a list of numbers\n",
    "numbers = [2, 4, 6, 8, 10]\n",
    "\n",
    "# Multiply each number by 2\n",
    "doubled_numbers = [x * 2 for x in numbers]\n",
    "\n",
    "# Calculate the sum of the doubled numbers\n",
    "sum_of_doubled_numbers = sum(doubled_numbers)\n",
    "\n",
    "# Print the results\n",
    "print(\"Original Numbers:\", numbers)\n",
    "print(\"Doubled Numbers:\", doubled_numbers)\n",
    "print(\"Sum of Doubled Numbers:\", sum_of_doubled_numbers)\n"
   ]
  },
  {
   "cell_type": "code",
   "execution_count": 9,
   "metadata": {
    "tags": []
   },
   "outputs": [
    {
     "name": "stdout",
     "output_type": "stream",
     "text": [
      "135 minutes is equal to 2 hours and 15 minutes.\n"
     ]
    }
   ],
   "source": [
    "# Function to convert minutes to hours and minutes\n",
    "def convert_minutes_to_hours(minutes):\n",
    "    \"\"\"\n",
    "    Convert minutes to hours and minutes.\n",
    "\n",
    "    :param minutes: The number of minutes to convert.\n",
    "    :return: A tuple containing hours and minutes.\n",
    "    \"\"\"\n",
    "    hours = minutes // 60\n",
    "    remaining_minutes = minutes % 60\n",
    "    return hours, remaining_minutes\n",
    "\n",
    "# Example usage\n",
    "minutes = 135  # Number of minutes to convert\n",
    "\n",
    "# Convert the minutes\n",
    "hours, remaining_minutes = convert_minutes_to_hours(minutes)\n",
    "\n",
    "# Print the results\n",
    "print(f\"{minutes} minutes is equal to {hours} hours and {remaining_minutes} minutes.\")\n"
   ]
  },
  {
   "cell_type": "markdown",
   "metadata": {},
   "source": [
    "\n",
    "     discount_amount = (discount_percentage / 100) * original_price\n",
    "     \n",
    "\n",
    "     final_price = original_price - discount_amount\n",
    "     \n",
    "\n",
    "\n"
   ]
  },
  {
   "cell_type": "code",
   "execution_count": null,
   "metadata": {},
   "outputs": [],
   "source": []
  }
 ],
 "metadata": {
  "kernelspec": {
   "display_name": "Python",
   "language": "python",
   "name": "conda-env-python-py"
  },
  "language_info": {
   "codemirror_mode": {
    "name": "ipython",
    "version": 3
   },
   "file_extension": ".py",
   "mimetype": "text/x-python",
   "name": "python",
   "nbconvert_exporter": "python",
   "pygments_lexer": "ipython3",
   "version": "3.7.12"
  }
 },
 "nbformat": 4,
 "nbformat_minor": 4
}
